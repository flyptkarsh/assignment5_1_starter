{
  "cells": [
    {
      "cell_type": "markdown",
      "metadata": {
        "id": "CcUT6Fon_qRE"
      },
      "source": [
        "### Required Assignment 5.1: Will the Customer Accept the Coupon?\n",
        "\n",
        "**Context**\n",
        "\n",
        "Imagine driving through town and a coupon is delivered to your cell phone for a restaurant near where you are driving. Would you accept that coupon and take a short detour to the restaurant? Would you accept the coupon but use it on a subsequent trip? Would you ignore the coupon entirely? What if the coupon was for a bar instead of a restaurant? What about a coffee house? Would you accept a bar coupon with a minor passenger in the car? What about if it was just you and your partner in the car? Would weather impact the rate of acceptance? What about the time of day?\n",
        "\n",
        "Obviously, proximity to the business is a factor on whether the coupon is delivered to the driver or not, but what are the factors that determine whether a driver accepts the coupon once it is delivered to them? How would you determine whether a driver is likely to accept a coupon?\n",
        "\n",
        "**Overview**\n",
        "\n",
        "The goal of this project is to use what you know about visualizations and probability distributions to distinguish between customers who accepted a driving coupon versus those that did not.\n",
        "\n",
        "**Data**\n",
        "\n",
        "This data comes to us from the UCI Machine Learning repository and was collected via a survey on Amazon Mechanical Turk. The survey describes different driving scenarios including the destination, current time, weather, passenger, etc., and then ask the person whether he will accept the coupon if he is the driver. Answers that the user will drive there ‘right away’ or ‘later before the coupon expires’ are labeled as ‘Y = 1’ and answers ‘no, I do not want the coupon’ are labeled as ‘Y = 0’.  There are five different types of coupons -- less expensive restaurants (under \\$20), coffee houses, carry out & take away, bar, and more expensive restaurants (\\$20 - $50)."
      ]
    },
    {
      "cell_type": "markdown",
      "metadata": {
        "id": "1wORvMBJ_qRF"
      },
      "source": [
        "**Deliverables**\n",
        "\n",
        "Your final product should be a brief report that highlights the differences between customers who did and did not accept the coupons.  To explore the data you will utilize your knowledge of plotting, statistical summaries, and visualization using Python. You will publish your findings in a public facing github repository as your first portfolio piece.\n",
        "\n",
        "\n",
        "\n"
      ]
    },
    {
      "cell_type": "code",
      "execution_count": null,
      "metadata": {},
      "outputs": [],
      "source": []
    },
    {
      "cell_type": "markdown",
      "metadata": {
        "id": "pG6_Ym6q_qRG"
      },
      "source": [
        "### Data Description\n",
        "Keep in mind that these values mentioned below are average values.\n",
        "\n",
        "The attributes of this data set include:\n",
        "1. User attributes\n",
        "    -  Gender: male, female\n",
        "    -  Age: below 21, 21 to 25, 26 to 30, etc.\n",
        "    -  Marital Status: single, married partner, unmarried partner, or widowed\n",
        "    -  Number of children: 0, 1, or more than 1\n",
        "    -  Education: high school, bachelors degree, associates degree, or graduate degree\n",
        "    -  Occupation: architecture & engineering, business & financial, etc.\n",
        "    -  Annual income: less than \\\\$12500, \\\\$12500 - \\\\$24999, \\\\$25000 - \\\\$37499, etc.\n",
        "    -  Number of times that he/she goes to a bar: 0, less than 1, 1 to 3, 4 to 8 or greater than 8\n",
        "    -  Number of times that he/she buys takeaway food: 0, less than 1, 1 to 3, 4 to 8 or greater\n",
        "    than 8\n",
        "    -  Number of times that he/she goes to a coffee house: 0, less than 1, 1 to 3, 4 to 8 or\n",
        "    greater than 8\n",
        "    -  Number of times that he/she eats at a restaurant with average expense less than \\\\$20 per\n",
        "    person: 0, less than 1, 1 to 3, 4 to 8 or greater than 8\n",
        "    -  Number of times that he/she goes to a bar: 0, less than 1, 1 to 3, 4 to 8 or greater than 8\n",
        "    \n",
        "\n",
        "2. Contextual attributes\n",
        "    - Driving destination: home, work, or no urgent destination\n",
        "    - Location of user, coupon and destination: we provide a map to show the geographical\n",
        "    location of the user, destination, and the venue, and we mark the distance between each\n",
        "    two places with time of driving. The user can see whether the venue is in the same\n",
        "    direction as the destination.\n",
        "    - Weather: sunny, rainy, or snowy\n",
        "    - Temperature: 30F, 55F, or 80F\n",
        "    - Time: 10AM, 2PM, or 6PM\n",
        "    - Passenger: alone, partner, kid(s), or friend(s)\n",
        "\n",
        "\n",
        "3. Coupon attributes\n",
        "    - time before it expires: 2 hours or one day"
      ]
    },
    {
      "cell_type": "code",
      "execution_count": null,
      "metadata": {
        "id": "dzNoP3o__qRG"
      },
      "outputs": [],
      "source": [
        "import matplotlib.pyplot as plt\n",
        "import seaborn as sns\n",
        "import pandas as pd\n",
        "import numpy as np"
      ]
    },
    {
      "cell_type": "markdown",
      "metadata": {
        "id": "Ct8pI1uE_qRG"
      },
      "source": [
        "### Problems\n",
        "\n",
        "Use the prompts below to get started with your data analysis.  \n",
        "\n",
        "1. Read in the `coupons.csv` file.\n",
        "\n",
        "\n"
      ]
    },
    {
      "cell_type": "code",
      "execution_count": null,
      "metadata": {
        "id": "X0vbffYg_qRH"
      },
      "outputs": [],
      "source": [
        "data = pd.read_csv('data/coupons.csv')"
      ]
    },
    {
      "cell_type": "code",
      "execution_count": null,
      "metadata": {
        "id": "TXofQ_DF_qRH",
        "outputId": "2fc96a2c-1112-4b54-f24f-dbb9bc88abfb"
      },
      "outputs": [
        {
          "data": {
            "text/html": [
              "<div>\n",
              "<style scoped>\n",
              "    .dataframe tbody tr th:only-of-type {\n",
              "        vertical-align: middle;\n",
              "    }\n",
              "\n",
              "    .dataframe tbody tr th {\n",
              "        vertical-align: top;\n",
              "    }\n",
              "\n",
              "    .dataframe thead th {\n",
              "        text-align: right;\n",
              "    }\n",
              "</style>\n",
              "<table border=\"1\" class=\"dataframe\">\n",
              "  <thead>\n",
              "    <tr style=\"text-align: right;\">\n",
              "      <th></th>\n",
              "      <th>destination</th>\n",
              "      <th>passanger</th>\n",
              "      <th>weather</th>\n",
              "      <th>temperature</th>\n",
              "      <th>time</th>\n",
              "      <th>coupon</th>\n",
              "      <th>expiration</th>\n",
              "      <th>gender</th>\n",
              "      <th>age</th>\n",
              "      <th>maritalStatus</th>\n",
              "      <th>...</th>\n",
              "      <th>CoffeeHouse</th>\n",
              "      <th>CarryAway</th>\n",
              "      <th>RestaurantLessThan20</th>\n",
              "      <th>Restaurant20To50</th>\n",
              "      <th>toCoupon_GEQ5min</th>\n",
              "      <th>toCoupon_GEQ15min</th>\n",
              "      <th>toCoupon_GEQ25min</th>\n",
              "      <th>direction_same</th>\n",
              "      <th>direction_opp</th>\n",
              "      <th>Y</th>\n",
              "    </tr>\n",
              "  </thead>\n",
              "  <tbody>\n",
              "    <tr>\n",
              "      <th>0</th>\n",
              "      <td>No Urgent Place</td>\n",
              "      <td>Alone</td>\n",
              "      <td>Sunny</td>\n",
              "      <td>55</td>\n",
              "      <td>2PM</td>\n",
              "      <td>Restaurant(&lt;20)</td>\n",
              "      <td>1d</td>\n",
              "      <td>Female</td>\n",
              "      <td>21</td>\n",
              "      <td>Unmarried partner</td>\n",
              "      <td>...</td>\n",
              "      <td>never</td>\n",
              "      <td>NaN</td>\n",
              "      <td>4~8</td>\n",
              "      <td>1~3</td>\n",
              "      <td>1</td>\n",
              "      <td>0</td>\n",
              "      <td>0</td>\n",
              "      <td>0</td>\n",
              "      <td>1</td>\n",
              "      <td>1</td>\n",
              "    </tr>\n",
              "    <tr>\n",
              "      <th>1</th>\n",
              "      <td>No Urgent Place</td>\n",
              "      <td>Friend(s)</td>\n",
              "      <td>Sunny</td>\n",
              "      <td>80</td>\n",
              "      <td>10AM</td>\n",
              "      <td>Coffee House</td>\n",
              "      <td>2h</td>\n",
              "      <td>Female</td>\n",
              "      <td>21</td>\n",
              "      <td>Unmarried partner</td>\n",
              "      <td>...</td>\n",
              "      <td>never</td>\n",
              "      <td>NaN</td>\n",
              "      <td>4~8</td>\n",
              "      <td>1~3</td>\n",
              "      <td>1</td>\n",
              "      <td>0</td>\n",
              "      <td>0</td>\n",
              "      <td>0</td>\n",
              "      <td>1</td>\n",
              "      <td>0</td>\n",
              "    </tr>\n",
              "    <tr>\n",
              "      <th>2</th>\n",
              "      <td>No Urgent Place</td>\n",
              "      <td>Friend(s)</td>\n",
              "      <td>Sunny</td>\n",
              "      <td>80</td>\n",
              "      <td>10AM</td>\n",
              "      <td>Carry out &amp; Take away</td>\n",
              "      <td>2h</td>\n",
              "      <td>Female</td>\n",
              "      <td>21</td>\n",
              "      <td>Unmarried partner</td>\n",
              "      <td>...</td>\n",
              "      <td>never</td>\n",
              "      <td>NaN</td>\n",
              "      <td>4~8</td>\n",
              "      <td>1~3</td>\n",
              "      <td>1</td>\n",
              "      <td>1</td>\n",
              "      <td>0</td>\n",
              "      <td>0</td>\n",
              "      <td>1</td>\n",
              "      <td>1</td>\n",
              "    </tr>\n",
              "    <tr>\n",
              "      <th>3</th>\n",
              "      <td>No Urgent Place</td>\n",
              "      <td>Friend(s)</td>\n",
              "      <td>Sunny</td>\n",
              "      <td>80</td>\n",
              "      <td>2PM</td>\n",
              "      <td>Coffee House</td>\n",
              "      <td>2h</td>\n",
              "      <td>Female</td>\n",
              "      <td>21</td>\n",
              "      <td>Unmarried partner</td>\n",
              "      <td>...</td>\n",
              "      <td>never</td>\n",
              "      <td>NaN</td>\n",
              "      <td>4~8</td>\n",
              "      <td>1~3</td>\n",
              "      <td>1</td>\n",
              "      <td>1</td>\n",
              "      <td>0</td>\n",
              "      <td>0</td>\n",
              "      <td>1</td>\n",
              "      <td>0</td>\n",
              "    </tr>\n",
              "    <tr>\n",
              "      <th>4</th>\n",
              "      <td>No Urgent Place</td>\n",
              "      <td>Friend(s)</td>\n",
              "      <td>Sunny</td>\n",
              "      <td>80</td>\n",
              "      <td>2PM</td>\n",
              "      <td>Coffee House</td>\n",
              "      <td>1d</td>\n",
              "      <td>Female</td>\n",
              "      <td>21</td>\n",
              "      <td>Unmarried partner</td>\n",
              "      <td>...</td>\n",
              "      <td>never</td>\n",
              "      <td>NaN</td>\n",
              "      <td>4~8</td>\n",
              "      <td>1~3</td>\n",
              "      <td>1</td>\n",
              "      <td>1</td>\n",
              "      <td>0</td>\n",
              "      <td>0</td>\n",
              "      <td>1</td>\n",
              "      <td>0</td>\n",
              "    </tr>\n",
              "  </tbody>\n",
              "</table>\n",
              "<p>5 rows × 26 columns</p>\n",
              "</div>"
            ],
            "text/plain": [
              "       destination  passanger weather  temperature  time  \\\n",
              "0  No Urgent Place      Alone   Sunny           55   2PM   \n",
              "1  No Urgent Place  Friend(s)   Sunny           80  10AM   \n",
              "2  No Urgent Place  Friend(s)   Sunny           80  10AM   \n",
              "3  No Urgent Place  Friend(s)   Sunny           80   2PM   \n",
              "4  No Urgent Place  Friend(s)   Sunny           80   2PM   \n",
              "\n",
              "                  coupon expiration  gender age      maritalStatus  ...  \\\n",
              "0        Restaurant(<20)         1d  Female  21  Unmarried partner  ...   \n",
              "1           Coffee House         2h  Female  21  Unmarried partner  ...   \n",
              "2  Carry out & Take away         2h  Female  21  Unmarried partner  ...   \n",
              "3           Coffee House         2h  Female  21  Unmarried partner  ...   \n",
              "4           Coffee House         1d  Female  21  Unmarried partner  ...   \n",
              "\n",
              "   CoffeeHouse CarryAway RestaurantLessThan20 Restaurant20To50  \\\n",
              "0        never       NaN                  4~8              1~3   \n",
              "1        never       NaN                  4~8              1~3   \n",
              "2        never       NaN                  4~8              1~3   \n",
              "3        never       NaN                  4~8              1~3   \n",
              "4        never       NaN                  4~8              1~3   \n",
              "\n",
              "  toCoupon_GEQ5min toCoupon_GEQ15min toCoupon_GEQ25min direction_same  \\\n",
              "0                1                 0                 0              0   \n",
              "1                1                 0                 0              0   \n",
              "2                1                 1                 0              0   \n",
              "3                1                 1                 0              0   \n",
              "4                1                 1                 0              0   \n",
              "\n",
              "  direction_opp  Y  \n",
              "0             1  1  \n",
              "1             1  0  \n",
              "2             1  1  \n",
              "3             1  0  \n",
              "4             1  0  \n",
              "\n",
              "[5 rows x 26 columns]"
            ]
          },
          "execution_count": 5,
          "metadata": {},
          "output_type": "execute_result"
        }
      ],
      "source": [
        "data.head()"
      ]
    },
    {
      "cell_type": "markdown",
      "metadata": {
        "id": "GcDs78ZH_qRH"
      },
      "source": [
        "2. Investigate the dataset for missing or problematic data."
      ]
    },
    {
      "cell_type": "code",
      "execution_count": null,
      "metadata": {
        "id": "6CwL6oWj_qRH"
      },
      "outputs": [],
      "source": [
        "# ## Task\n",
        "# **Investigate the dataset for missing or problematic data.**\n",
        "\n",
        "# ---\n",
        "\n",
        "# ## Findings\n",
        "\n",
        "# ### 🔍 Missing Values\n",
        "# > **'car' column**:  \n",
        "# > - 12,576 missing values (99.15%)  \n",
        "# >  \n",
        "# > **Other columns with missing values**:  \n",
        "# > - CoffeeHouse: 217 (1.71%)  \n",
        "# > - Restaurant20To50: 189 (1.49%)  \n",
        "# > - CarryAway: 151 (1.19%)  \n",
        "# > - RestaurantLessThan20: 130 (1.02%)  \n",
        "# > - Bar: 107 (0.84%)\n",
        "\n",
        "# ---\n",
        "\n",
        "# ### 🧮 Data Type Issues\n",
        "# > - 'age' is stored as an object but contains numerical values  \n",
        "# > - Several categorical columns are incorrectly stored as objects  \n",
        "# > - Binary columns (`Y`, `direction_same`, `direction_opp`) are correctly typed as `int64`\n",
        "\n",
        "# ---\n",
        "\n",
        "# ### ⚠️ Data Quality Issues\n",
        "# > - 74 duplicate rows found  \n",
        "# > - 'age' values include `\"below21\"` and `\"50plus\"` as strings  \n",
        "# > - 'temperature' has only three distinct values: 30, 55, 80  \n",
        "# > - 'time' values are consistent with five distinct options  \n",
        "# > - 'weather' has three values: Sunny, Snowy, Rainy\n",
        "\n",
        "# ---\n",
        "\n",
        "# ### 🚩 Potential Outliers\n",
        "# > - No outliers in: `temperature`, `has_children`, or `Y`  \n",
        "# > - **toCoupon_GEQ25min**: 1,511 potential outliers  \n",
        "# > - **direction_same** and **direction_opp**: 2,724 potential outliers each\n",
        "\n",
        "# ---\n",
        "\n",
        "# ### 📊 Value Distributions\n",
        "# > - Coupon types are well distributed; Coffee House is most common  \n",
        "# > - Gender is fairly balanced: 6,511 Female, 6,173 Male  \n",
        "# > - Age groups are reasonably distributed  \n",
        "# > - Weather is heavily skewed toward Sunny (10,069 cases)\n"
      ]
    },
    {
      "cell_type": "markdown",
      "metadata": {
        "id": "bSdVSpYB_qRH"
      },
      "source": [
        "3. Decide what to do about your missing data -- drop, replace, other..."
      ]
    },
    {
      "cell_type": "code",
      "execution_count": null,
      "metadata": {
        "id": "tyvoAC5F_qRI"
      },
      "outputs": [],
      "source": [
        "# ## ✅ Recommendations for Data Cleaning\n",
        "# - Consider **dropping the 'car' column** due to excessive missing data  \n",
        "# - Impute or drop rows with missing values in other columns  \n",
        "# - Convert `'age'` to a **numerical or categorized** format  \n",
        "# - Remove **duplicate rows**  \n",
        "# - Standardize **categorical variables**  \n",
        "# - Investigate and potentially address outliers in:\n",
        "#   - `toCoupon_GEQ25min`\n",
        "#   - `direction_same`\n",
        "#   - `direction_opp`"
      ]
    },
    {
      "cell_type": "markdown",
      "metadata": {
        "id": "YE6oJbXd_qRI"
      },
      "source": [
        "4. What proportion of the total observations chose to accept the coupon?\n",
        "\n"
      ]
    },
    {
      "cell_type": "code",
      "execution_count": null,
      "metadata": {
        "id": "86GGqBTv_qRI"
      },
      "outputs": [],
      "source": [
        "# Based on the data investigation, I can answer this question from the Numerical Columns Analysis section, specifically from the Target Variable (Y) statistics:\n",
        "# The proportion of total observations that chose to accept the coupon is 57% (0.57 or 57.41% to be more precise).\n",
        "# This can be seen in the Target Variable (Y) section of the analysis:\n",
        "# Mean: 0.57 (57% acceptance rate)\n",
        "# Standard Deviation: 0.50\n",
        "# This means that out of all the observations in the dataset, 57.41% of drivers chose to accept the coupons they were offered. This is a binary variable where:\n",
        "# 1 represents accepting the coupon\n",
        "# 0 represents not accepting the coupon\n",
        "# The standard deviation of 0.50 indicates that there's a good spread in the acceptance rates, which is expected for a binary variable with a mean around 0.5."
      ]
    },
    {
      "cell_type": "markdown",
      "metadata": {
        "id": "vflz0DoE_qRI"
      },
      "source": [
        "5. Use a bar plot to visualize the `coupon` column."
      ]
    },
    {
      "cell_type": "code",
      "execution_count": null,
      "metadata": {
        "id": "dHFh3E45_qRI"
      },
      "outputs": [],
      "source": []
    },
    {
      "cell_type": "markdown",
      "metadata": {
        "id": "Qw4lCyx2_qRI"
      },
      "source": [
        "6. Use a histogram to visualize the temperature column."
      ]
    },
    {
      "cell_type": "code",
      "execution_count": null,
      "metadata": {
        "id": "Yg9Anv71_qRI"
      },
      "outputs": [],
      "source": []
    },
    {
      "cell_type": "code",
      "execution_count": null,
      "metadata": {
        "id": "zLtOaJQk_qRI"
      },
      "outputs": [],
      "source": []
    },
    {
      "cell_type": "code",
      "execution_count": null,
      "metadata": {
        "id": "7GBHZKBp_qRJ"
      },
      "outputs": [],
      "source": []
    },
    {
      "cell_type": "code",
      "execution_count": null,
      "metadata": {
        "id": "Y5nBUA-j_qRJ"
      },
      "outputs": [],
      "source": []
    },
    {
      "cell_type": "code",
      "execution_count": null,
      "metadata": {
        "id": "ShcUC-Vm_qRJ"
      },
      "outputs": [],
      "source": []
    },
    {
      "cell_type": "markdown",
      "metadata": {
        "id": "FupfgeJk_qRJ"
      },
      "source": [
        "**Investigating the Bar Coupons**\n",
        "\n",
        "Now, we will lead you through an exploration of just the bar related coupons.  \n",
        "\n",
        "1. Create a new `DataFrame` that contains just the bar coupons.\n"
      ]
    },
    {
      "cell_type": "code",
      "execution_count": null,
      "metadata": {
        "id": "tMBlWuGq_qRJ"
      },
      "outputs": [],
      "source": []
    },
    {
      "cell_type": "markdown",
      "metadata": {
        "id": "8ue6uCqf_qRJ"
      },
      "source": [
        "2. What proportion of bar coupons were accepted?\n"
      ]
    },
    {
      "cell_type": "code",
      "execution_count": null,
      "metadata": {
        "id": "hSdte8Mi_qRK"
      },
      "outputs": [],
      "source": []
    },
    {
      "cell_type": "markdown",
      "metadata": {
        "id": "85nA_iEi_qRK"
      },
      "source": [
        "3. Compare the acceptance rate between those who went to a bar 3 or fewer times a month to those who went more.\n"
      ]
    },
    {
      "cell_type": "code",
      "execution_count": null,
      "metadata": {
        "id": "LBOrN-XM_qRK"
      },
      "outputs": [],
      "source": []
    },
    {
      "cell_type": "markdown",
      "metadata": {
        "id": "RBgcQwH4_qRK"
      },
      "source": [
        "4. Compare the acceptance rate between drivers who go to a bar more than once a month and are over the age of 25 to the all others.  Is there a difference?\n"
      ]
    },
    {
      "cell_type": "code",
      "execution_count": null,
      "metadata": {
        "id": "bf28bbeX_qRK"
      },
      "outputs": [],
      "source": []
    },
    {
      "cell_type": "markdown",
      "metadata": {
        "id": "S4RKT4PJ_qRK"
      },
      "source": [
        "5. Use the same process to compare the acceptance rate between drivers who go to bars more than once a month and had passengers that were not a kid and had occupations other than farming, fishing, or forestry.\n"
      ]
    },
    {
      "cell_type": "code",
      "execution_count": null,
      "metadata": {
        "id": "sENaI2Tg_qRK"
      },
      "outputs": [],
      "source": []
    },
    {
      "cell_type": "markdown",
      "metadata": {
        "id": "n2LIUTil_qRK"
      },
      "source": [
        "6. Compare the acceptance rates between those drivers who:\n",
        "\n",
        "- go to bars more than once a month, had passengers that were not a kid, and were not widowed *OR*\n",
        "- go to bars more than once a month and are under the age of 30 *OR*\n",
        "- go to cheap restaurants more than 4 times a month and income is less than 50K.\n",
        "\n"
      ]
    },
    {
      "cell_type": "code",
      "execution_count": null,
      "metadata": {
        "id": "aK_wEzx7_qRK"
      },
      "outputs": [],
      "source": [
        "# Bar Coupon Acceptance by Visit Frequency:\n",
        "# --------------------------------------------------\n",
        "#                    Total Coupons  Acceptance Rate\n",
        "# visit_frequency                                  \n",
        "# 3 or fewer times            1818            0.371\n",
        "# More than 3 times            199            0.769\n",
        "\n",
        "# Detailed Statistics:\n",
        "# --------------------------------------------------\n",
        "# Infrequent visitors (≤3 times/month):\n",
        "# Total coupons: 1818\n",
        "# Acceptance rate: 37.1%\n",
        "\n",
        "# Frequent visitors (>3 times/month):\n",
        "# Total coupons: 199"
      ]
    },
    {
      "cell_type": "markdown",
      "metadata": {
        "id": "v3fL3QkO_qRK"
      },
      "source": [
        "7.  Based on these observations, what do you hypothesize about drivers who accepted the bar coupons?"
      ]
    },
    {
      "cell_type": "code",
      "execution_count": null,
      "metadata": {
        "id": "Y48naDFh_qRL"
      },
      "outputs": [],
      "source": [
        "# Based on the analysis of bar coupon acceptance rates, I can make several key observations and hypotheses about drivers who accepted bar coupons:\n",
        "# Frequency of Bar Visits is a Strong Predictor\n",
        "# Drivers who visit bars more than 3 times per month have a significantly higher acceptance rate (76.9%) compared to those who visit 3 or fewer times (37.1%)\n",
        "# This suggests that regular bar-goers are much more likely to accept bar coupons, possibly because:\n",
        "# They are more familiar with bar environments\n",
        "# They have a stronger preference for bar experiences\n",
        "# They may be more likely to incorporate bar visits into their regular routine\n",
        "# Sample Size Considerations\n",
        "# The analysis shows 1,818 coupons for infrequent visitors (≤3 times/month)\n",
        "# Only 199 coupons for frequent visitors (>3 times/month)\n",
        "# This distribution suggests that bar coupons are more commonly offered to less frequent bar visitors, which might be a strategic marketing approach to attract new customers\n",
        "# Behavioral Patterns\n",
        "# The stark difference in acceptance rates (76.9% vs 37.1%) indicates that bar-going behavior is a strong indicator of coupon acceptance\n",
        "# This suggests that past behavior (frequency of bar visits) is a reliable predictor of future behavior (coupon acceptance)\n",
        "# Marketing Implications\n",
        "# The data suggests that bar coupons might be most effective when targeted at:\n",
        "# Regular bar visitors (who have a high likelihood of acceptance)\n",
        "# Or potentially used as a strategy to attract infrequent visitors (though with lower acceptance rates)\n",
        "# Potential Confounding Factors\n",
        "# The analysis doesn't account for other factors that might influence acceptance, such as:\n",
        "# Time of day\n",
        "# Weather conditions\n",
        "# Presence of passengers\n",
        "# Age of the driver\n",
        "# These factors might interact with bar visit frequency to influence acceptance rates"
      ]
    },
    {
      "cell_type": "markdown",
      "metadata": {
        "id": "r4Hu1zOb_qRL"
      },
      "source": [
        "### Independent Investigation\n",
        "\n",
        "Using the bar coupon example as motivation, you are to explore one of the other coupon groups and try to determine the characteristics of passengers who accept the coupons.  "
      ]
    },
    {
      "cell_type": "code",
      "execution_count": null,
      "metadata": {
        "id": "0c71cQhu_qRL"
      },
      "outputs": [],
      "source": [
        "# Compare the acceptance rate between those who went to a bar 3 or fewer times a month to those who went more.\n",
        "\n",
        "# I'll create an analysis to compare the acceptance rates between frequent and infrequent bar visitors. Let me modify our code to perform this comparison:\n",
        "# )\n",
        "# Now let's run this analysis:\n",
        "# bar_vis\n",
        "# python bar_visit_analysis.py\n",
        "\n",
        "# I'll run the bar visit analysis script:\n",
        "# 7.  Based on these observations, what do you hypothesize about drivers who accepted the bar coupons?\n",
        "\n",
        "# Based on the analysis of bar coupon acceptance rates, I can make several key observations and hypotheses about drivers who accepted bar coupons:\n",
        "# Frequency of Bar Visits is a Strong Predictor\n",
        "# Drivers who visit bars more than 3 times per month have a significantly higher acceptance rate (76.9%) compared to those who visit 3 or fewer times (37.1%)\n",
        "# This suggests that regular bar-goers are much more likely to accept bar coupons, possibly because:\n",
        "# They are more familiar with bar environments\n",
        "# They have a stronger preference for bar experiences\n",
        "# They may be more likely to incorporate bar visits into their regular routine\n",
        "# Sample Size Considerations\n",
        "# The analysis shows 1,818 coupons for infrequent visitors (≤3 times/month)\n",
        "# Only 199 coupons for frequent visitors (>3 times/month)\n",
        "# This distribution suggests that bar coupons are more commonly offered to less frequent bar visitors, which might be a strategic marketing approach to attract new customers\n",
        "# Behavioral Patterns\n",
        "# The stark difference in acceptance rates (76.9% vs 37.1%) indicates that bar-going behavior is a strong indicator of coupon acceptance\n",
        "# This suggests that past behavior (frequency of bar visits) is a reliable predictor of future behavior (coupon acceptance)\n",
        "# Marketing Implications\n",
        "# The data suggests that bar coupons might be most effective when targeted at:\n",
        "# Regular bar visitors (who have a high likelihood of acceptance)\n",
        "# Or potentially used as a strategy to attract infrequent visitors (though with lower acceptance rates)\n",
        "# Potential Confounding Factors\n",
        "# The analysis doesn't account for other factors that might influence acceptance, such as:\n",
        "# Time of day\n",
        "# Weather conditions\n",
        "# Presence of passengers\n",
        "# Age of the driver\n",
        "# These factors might interact with bar visit frequency to influence acceptance rates\n",
        "# Would you like me to:\n",
        "# Investigate any of these hypotheses further?\n",
        "# Look at how other factors (like age, time of day, or weather) interact with bar visit frequency?\n",
        "# Compare these acceptance rates with other types of coupons?\n",
        "# Analyze any other specific aspects of the bar coupon data?\n",
        "# Using the bar coupon example as motivation, you are to explore one of the other coupon groups and try to determine the characteristics of passengers who accept the coupons.  \n",
        "\n",
        "# I'll analyze the Coffee House coupons, as they represent another common type of coupon in the dataset. I'll create a similar analysis to what we did for bar coupons:\n",
        "# Now let's run this analysis:\n",
        "# Based on the analysis of coffee house coupons, I can identify several key characteristics of passengers who accept these coupons:\n",
        "# Visit Frequency Impact\n",
        "# Similar to bar coupons, frequent visitors (>3 times/month) have a higher acceptance rate (67.5%) compared to infrequent visitors (45.0%)\n",
        "# However, the difference is less dramatic than with bar coupons (76.9% vs 37.1%)\n",
        "# Time of Day Preferences\n",
        "# Highest acceptance rates:\n",
        "# 10AM: 64.1% (899 coupons)\n",
        "# 2PM: 54.8% (794 coupons)\n",
        "# Lowest acceptance rates:\n",
        "# 6PM: 41.3% (1,093 coupons)\n",
        "# 10PM: 42.4% (297 coupons)\n",
        "# This suggests that coffee house coupons are most effective during morning and early afternoon hours\n",
        "# Age Group Patterns\n",
        "# Highest acceptance rates:\n",
        "# Below 21: 69.7% (155 coupons)\n",
        "# 21-25: 52.4% (883 coupons)\n",
        "# Lowest acceptance rates:\n",
        "# 50plus: 42.0% (545 coupons)\n",
        "# 31-35: 47.7% (623 coupons)\n",
        "# This indicates that younger demographics are more likely to accept coffee house coupons\n",
        "# Weather Impact\n",
        "# Sunny: 50.4% (3,467 coupons)\n",
        "# Rainy: 52.2% (226 coupons)\n",
        "# Snowy: 43.2% (303 coupons)\n",
        "# Weather has a moderate impact, with slightly higher acceptance rates during sunny and rainy conditions\n",
        "# Overall Sample Size\n",
        "# Total coffee house coupons: 3,996\n",
        "# This is significantly larger than the bar coupon sample (2,017), suggesting coffee house coupons are more commonly offered\n",
        "# Key Hypotheses:\n",
        "# Coffee house coupons are most effective when targeted at:\n",
        "# Young adults (especially under 21)\n",
        "# Regular coffee house visitors\n",
        "# Morning and early afternoon hours\n",
        "# The acceptance pattern suggests that coffee house visits are more routine and less weather-dependent than bar visits\n",
        "# The time of day effect is particularly strong, indicating that coffee consumption patterns significantly influence coupon acceptance"
      ]
    },
    {
      "cell_type": "code",
      "execution_count": null,
      "metadata": {
        "id": "QEsBkvIN_qRL"
      },
      "outputs": [],
      "source": []
    },
    {
      "cell_type": "code",
      "execution_count": null,
      "metadata": {
        "id": "fTC2WGE3_qRL"
      },
      "outputs": [],
      "source": []
    },
    {
      "cell_type": "code",
      "execution_count": null,
      "metadata": {
        "id": "RrqUWn7d_qRL"
      },
      "outputs": [],
      "source": []
    },
    {
      "cell_type": "code",
      "execution_count": null,
      "metadata": {
        "id": "_oykf8YP_qRL"
      },
      "outputs": [],
      "source": []
    }
  ],
  "metadata": {
    "colab": {
      "provenance": []
    },
    "kernelspec": {
      "display_name": "Python 3 (ipykernel)",
      "language": "python",
      "name": "python3"
    },
    "language_info": {
      "codemirror_mode": {
        "name": "ipython",
        "version": 3
      },
      "file_extension": ".py",
      "mimetype": "text/x-python",
      "name": "python",
      "nbconvert_exporter": "python",
      "pygments_lexer": "ipython3",
      "version": "3.12.1"
    }
  },
  "nbformat": 4,
  "nbformat_minor": 0
}
